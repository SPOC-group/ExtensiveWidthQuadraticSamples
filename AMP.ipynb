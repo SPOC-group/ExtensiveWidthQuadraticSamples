{
 "cells": [
  {
   "cell_type": "code",
   "execution_count": 1,
   "metadata": {},
   "outputs": [],
   "source": [
    "import numpy as np\n",
    "import matplotlib.pyplot as plt\n",
    "import pandas as pd\n",
    "from scipy.integrate import quad\n",
    "from scipy.optimize import root\n",
    "from tqdm import tqdm\n",
    "\n",
    "# nice latex plots\n",
    "plt.rcParams.update({\n",
    "    \"text.usetex\": True,\n",
    "    \"font.family\": \"serif\",\n",
    "    \"font.serif\": [\"Computer Modern Roman\"],\n",
    "    \"font.size\": 12\n",
    "})\n",
    "\n",
    "# color cycle\n",
    "colors = plt.rcParams['axes.prop_cycle'].by_key()['color']\n",
    "\n",
    "def solve_poly(z, sigma, kappa):\n",
    "    alpha = 1 / kappa\n",
    "    R_noise = sigma\n",
    "    a3 = np.sqrt(alpha) * R_noise\n",
    "    a2 = -(np.sqrt(alpha) * z + R_noise)\n",
    "    a1 = (z + np.sqrt(alpha) - alpha**(-1 / 2))\n",
    "    a0 = -1\n",
    "\n",
    "    # Coefficients of the polynomial\n",
    "    coefficients = [a3, a2, a1, a0]\n",
    "\n",
    "    # Find the roots of the polynomial\n",
    "    return np.roots(coefficients)\n",
    "\n",
    "\n",
    "def edges_rho(sigma, kappa):\n",
    "    alpha = 1/kappa\n",
    "    R_noise = sigma\n",
    "\n",
    "    a0 = -12 * R_noise + (4 * R_noise) / alpha + 12 * alpha * R_noise - 4 * alpha**2 * R_noise - 20 * R_noise**2 + R_noise**2 / alpha - 8 * alpha * R_noise**2 - 4 * R_noise**3\n",
    "    a1 = -(10 * R_noise) / np.sqrt(alpha) + 2 * np.sqrt(alpha) * R_noise + 8 * alpha**(3/2) * R_noise - (2 * R_noise**2) / np.sqrt(alpha) + 8 * np.sqrt(alpha) * R_noise**2\n",
    "    a2 = 1 - 2 * alpha + alpha**2 + 8 * R_noise - 2 * alpha * R_noise + R_noise**2\n",
    "    a3 = -2 * np.sqrt(alpha) - 2 * alpha**(3/2) - 2 * np.sqrt(alpha) * R_noise\n",
    "    a4 = alpha\n",
    "\n",
    "    # Coefficients of the polynomial\n",
    "    coefficients = [a4, a3, a2, a1, a0]\n",
    "\n",
    "    roots_all = np.roots(coefficients)\n",
    "    real_roots = np.real(roots_all[np.abs(np.imag(roots_all)) < 1e-6])\n",
    "\n",
    "    return np.sort(real_roots)\n",
    "\n",
    "\n",
    "def rho(x, sigma, kappa):        \n",
    "    return np.max(np.imag(solve_poly(x-1e-8j, sigma, kappa))) / np.pi\n",
    "\n",
    "def integral_rho(Delta, kappa):\n",
    "        \n",
    "    def rho(x):        \n",
    "        return np.max(np.imag(solve_poly(x-1e-8j, Delta, kappa))) / np.pi\n",
    "\n",
    "    \n",
    "    edges_list = edges_rho(Delta, kappa)\n",
    "\n",
    "    if len(edges_list) == 4:\n",
    "        return quad(lambda x: rho(x)**3, edges_list[0], edges_list[1])[0] + quad(lambda x: rho(x)**3, edges_list[2], edges_list[3])[0]\n",
    "    else:\n",
    "        return quad(lambda x: rho(x)**3, edges_list[0], edges_list[1])[0]\n",
    "\n",
    "\n",
    "\n",
    "def f_RIE(R, Delta, kappa):\n",
    "    Delta = Delta + 1e-6\n",
    "    def denoiser(x):        \n",
    "        choose_root = np.argmax(np.imag(solve_poly(x-1e-8j, Delta, kappa))) \n",
    "        return np.real(solve_poly(x-1e-8j, Delta, kappa))[choose_root]\n",
    "    \n",
    "    eigval, eigvec = np.linalg.eig(R)\n",
    "    eigval_denoised = np.array([e - 2*Delta*denoiser(e) for e in eigval])\n",
    "    return eigvec @ np.diag(eigval_denoised) @ eigvec.T\n",
    "\n",
    "\n",
    "def F_RIE(Delta, kappa):\n",
    "    return Delta - 4*np.pi**2/3 * Delta**2 * integral_rho(Delta, kappa)\n",
    "\n"
   ]
  },
  {
   "cell_type": "markdown",
   "metadata": {},
   "source": [
    "# Spectrum test"
   ]
  },
  {
   "cell_type": "code",
   "execution_count": 2,
   "metadata": {},
   "outputs": [
    {
     "data": {
      "text/plain": [
       "(0.0, 1.0)"
      ]
     },
     "execution_count": 2,
     "metadata": {},
     "output_type": "execute_result"
    },
    {
     "data": {
      "image/png": "[encoded data removed]",
      "text/plain": [
       "<Figure size 640x480 with 1 Axes>"
      ]
     },
     "metadata": {},
     "output_type": "display_data"
    }
   ],
   "source": [
    "def datamodel_denoising(D, r, Delta):\n",
    "    W = np.random.normal(0,1, (D, r))\n",
    "    S = W @ W.T / np.sqrt(r)\n",
    "    Z = np.random.normal(0,1, (D, D))\n",
    "    Z = (Z + Z.T) / np.sqrt(2)\n",
    "    Y = S + np.sqrt(Delta) * Z\n",
    "\n",
    "    # Y is divided by the square root of D to have the eigenvalues of Y of order 1\n",
    "    # S has the elements of order 1\n",
    "    return S, Y / D**(1/2)\n",
    "\n",
    "\n",
    "\n",
    "D = 1000\n",
    "r = 200\n",
    "\n",
    "noise = 0.1\n",
    "\n",
    "S, Y = datamodel_denoising(D,r,Delta=noise)\n",
    "S, U = np.linalg.eig(Y)\n",
    "\n",
    "\n",
    "x = np.linspace(-4, 10, 128)\n",
    "pdf = [rho(x, noise, r/D) for x in x]\n",
    "\n",
    "plt.hist(S, bins=100, density=True, alpha=0.5)\n",
    "\n",
    "# Vertical lines for the edges\n",
    "edges = edges_rho(noise, r/D)\n",
    "[plt.axvline(x=edge, color='r') for edge in edges]\n",
    "\n",
    "\n",
    "plt.plot(x, pdf, label='Theoretical')\n",
    "\n",
    "plt.ylim(0,1)"
   ]
  },
  {
   "cell_type": "markdown",
   "metadata": {},
   "source": [
    "# Denoiser test"
   ]
  },
  {
   "cell_type": "code",
   "execution_count": 3,
   "metadata": {},
   "outputs": [
    {
     "name": "stdout",
     "output_type": "stream",
     "text": [
      "Theory: 0.2839021473693112, AMP: 0.2829918344198994\n"
     ]
    }
   ],
   "source": [
    "D = 1000\n",
    "r = 500\n",
    "\n",
    "noise = 0.6\n",
    "\n",
    "S, Y = datamodel_denoising(D,r,Delta=noise)\n",
    "S_hat = f_RIE(Y, noise, r/D) * np.sqrt(D)\n",
    "\n",
    "MMSE_AMP = np.linalg.norm(S_hat - S)**2 / D**2\n",
    "MMSE_theory = F_RIE(noise, r/D)\n",
    "\n",
    "print(f\"Theory: {MMSE_theory}, AMP: {MMSE_AMP}\")"
   ]
  },
  {
   "cell_type": "markdown",
   "metadata": {},
   "source": [
    "# Functions for AMP"
   ]
  },
  {
   "cell_type": "code",
   "execution_count": 4,
   "metadata": {},
   "outputs": [],
   "source": [
    "def data_generation(D, beta, alpha, delta):\n",
    "    R = int(beta * D)\n",
    "    N = int(alpha * D**2)\n",
    "\n",
    "    # X = np.random.normal(0,1, (N, D, D))\n",
    "    X_mu = np.random.normal(0,1, (N,D))\n",
    "    X = (np.einsum(\"mi,mj->mij\", X_mu,X_mu) - np.einsum(\"ij,m->mij\", np.eye(D), np.ones(N))) \n",
    "\n",
    "    W = np.random.normal(0,1, (D, R))\n",
    "    S = W @ W.T / np.sqrt(R)\n",
    "\n",
    "    h = np.einsum('mij,ij->m', X, S) / D\n",
    "    y = h + np.sqrt(delta)*np.random.normal(0,1, N)\n",
    "    # print(y.mean(), y.std())\n",
    "    return X, y, S\n",
    "\n"
   ]
  },
  {
   "cell_type": "code",
   "execution_count": 5,
   "metadata": {},
   "outputs": [],
   "source": [
    "def AMP(X, y, S, beta, iterations = 100, damping = 0.4, tol = 1e-5, verbose = False):\n",
    "    def gOut(y, w, V):\n",
    "        return (y-w)/(noise + V)\n",
    "\n",
    "    N, D, _ = X.shape\n",
    "    r = int(D*beta)\n",
    "    alpha = N/D**2\n",
    "        \n",
    "    uX = X / np.sqrt(D) # X_mu has O(1) components and y_mu is O(1). We normalise X to have simpler equations later\n",
    "        \n",
    "    # hatS has O(1) SPECTRUM\n",
    "    W = np.random.normal(0,1, (D, r))\n",
    "    hatS = W @ W.T / np.sqrt(r) / np.sqrt(D) \n",
    "\n",
    "    if verbose:\n",
    "        # print(f\"==> Squared norm of iterate is {np.linalg.norm(hatS)**2 / D}, which is compatible with the theory: {1 + r/D}\")\n",
    "        print(f\"==> Squared norm distance with true S is {np.linalg.norm(S - hatS*np.sqrt(D))**2 / D**2}\")\n",
    "        \n",
    "    hatC    = 10.\n",
    "    omega   = np.ones(N)*10.\n",
    "    V       = 10.\n",
    "\n",
    "    error = np.inf\n",
    "    for t in range(iterations):\n",
    "        newV = hatC\n",
    "        newOmega = np.einsum(\"nij,ij\", uX, hatS) - gOut(y, omega, V) * newV\n",
    "        \n",
    "        V = newV * (1-damping) + V * damping\n",
    "        omega = newOmega * (1-damping) + omega * damping\n",
    "        \n",
    "        # Factor 2\n",
    "        A_normalised = np.sum(gOut(y, omega, V)**2) * alpha / N * 2\n",
    "        # print(A_normalised, 1/(1+V)*alpha)\n",
    "        # A_normalised =  alpha / (1 + V)\n",
    "\n",
    "        R = hatS + 1 / (A_normalised * D)  * np.sum(gOut(y, omega, V)[:, None, None] * uX, axis=0)\n",
    "        \n",
    "        # Factor 2\n",
    "        noise_A = 1 / A_normalised / 2\n",
    "        newhatS = f_RIE(R, noise_A, r/D)\n",
    "        hatC = F_RIE(noise_A, r/D)  * 2\n",
    "        \n",
    "        error = np.linalg.norm(hatS - newhatS)**2 / D\n",
    "        error_eval = np.linalg.norm(hatS*np.sqrt(D) - S)**2 / D**2\n",
    "        hatS = newhatS\n",
    "\n",
    "        if verbose:\n",
    "            print(f\"--> Squared norm distance of iteration step is {error}\")\n",
    "            print(f\"--> Squared norm distance of true S is {error_eval}\")\n",
    "        \n",
    "        if error < tol:\n",
    "            break\n",
    "\n",
    "    return hatS, error_eval"
   ]
  },
  {
   "cell_type": "code",
   "execution_count": 6,
   "metadata": {},
   "outputs": [
    {
     "name": "stdout",
     "output_type": "stream",
     "text": [
      "==> Squared norm distance with true S is 2.3409838595061228\n",
      "--> Squared norm distance of iteration step is 0.17150836954000664\n",
      "--> Squared norm distance of true S is 2.3409838595061228\n",
      "--> Squared norm distance of iteration step is 0.16908290534331605\n",
      "--> Squared norm distance of true S is 1.9545593376161379\n",
      "--> Squared norm distance of iteration step is 0.18627114368429062\n",
      "--> Squared norm distance of true S is 1.5423703743665853\n",
      "--> Squared norm distance of iteration step is 0.133330735964067\n",
      "--> Squared norm distance of true S is 1.0898321005193103\n",
      "--> Squared norm distance of iteration step is 0.058367852779631496\n",
      "--> Squared norm distance of true S is 0.7635920447419808\n",
      "--> Squared norm distance of iteration step is 0.021953518909883687\n",
      "--> Squared norm distance of true S is 0.5563319404842959\n",
      "--> Squared norm distance of iteration step is 0.0068134184891279785\n",
      "--> Squared norm distance of true S is 0.43695149573349734\n",
      "--> Squared norm distance of iteration step is 0.0017087008410732075\n",
      "--> Squared norm distance of true S is 0.3769023839321694\n",
      "--> Squared norm distance of iteration step is 0.0003574423581648554\n",
      "--> Squared norm distance of true S is 0.34799496401407265\n",
      "--> Squared norm distance of iteration step is 6.634550199333929e-05\n",
      "--> Squared norm distance of true S is 0.3346270979235328\n",
      "--> Squared norm distance of iteration step is 1.1492916623804673e-05\n",
      "--> Squared norm distance of true S is 0.3287251079376027\n",
      "--> Squared norm distance of iteration step is 1.9149211223331527e-06\n",
      "--> Squared norm distance of true S is 0.32621917990302535\n",
      "Error is 0.32621917990302535\n"
     ]
    }
   ],
   "source": [
    "D = 50\n",
    "r = int(100*0.1)\n",
    "\n",
    "noise = 0.0\n",
    "alpha = 0.5\n",
    "\n",
    "X, y, S = data_generation(D, r/D, alpha, noise)\n",
    "\n",
    "_, error_eval = AMP(X, y, S, r/D, verbose=True)\n",
    "        \n",
    "print(f\"Error is {error_eval}\")\n"
   ]
  },
  {
   "cell_type": "code",
   "execution_count": 7,
   "metadata": {},
   "outputs": [
    {
     "name": "stderr",
     "output_type": "stream",
     "text": [
      " 50%|█████     | 1/2 [00:05<00:05,  5.30s/it]"
     ]
    },
    {
     "name": "stdout",
     "output_type": "stream",
     "text": [
      "Error is 0.00015103818627638493\n"
     ]
    },
    {
     "name": "stderr",
     "output_type": "stream",
     "text": [
      "100%|██████████| 2/2 [00:10<00:00,  5.29s/it]"
     ]
    },
    {
     "name": "stdout",
     "output_type": "stream",
     "text": [
      "Error is 0.00018168667805696596\n",
      "Mean error is 0.00016636243216667544 and std is 1.5324245890290514e-05\n"
     ]
    },
    {
     "name": "stderr",
     "output_type": "stream",
     "text": [
      "\n"
     ]
    }
   ],
   "source": [
    "def AMP_experiment(D, alpha, beta, noise, samples = 2, iterations = 100, damping = 0.5, tol = 1e-5, verbose = False):\n",
    "    errors = np.zeros(samples)\n",
    "    for i in tqdm(range(samples)):\n",
    "        X, y, S = data_generation(D, beta, alpha, noise)\n",
    "        _, errors[i] = AMP(X, y, S, beta, iterations = iterations, damping = damping, tol = tol, verbose=False)\n",
    "\n",
    "        if verbose:\n",
    "            print(f\"Error is {errors[i]}\")\n",
    "    return errors\n",
    "\n",
    "D = 50\n",
    "beta = 0.5\n",
    "alpha = 0.5\n",
    "noise = 0.0\n",
    "samples = 2\n",
    "\n",
    "errors = AMP_experiment(D, alpha, beta, noise, samples = samples, iterations = 100, damping = 0.5, tol = 1e-5, verbose=True)\n",
    "\n",
    "print(f\"Mean error is {errors.mean()} and std is {errors.std()}\")"
   ]
  }
 ],
 "metadata": {
  "kernelspec": {
   "display_name": "Python 3",
   "language": "python",
   "name": "python3"
  },
  "language_info": {
   "codemirror_mode": {
    "name": "ipython",
    "version": 3
   },
   "file_extension": ".py",
   "mimetype": "text/x-python",
   "name": "python",
   "nbconvert_exporter": "python",
   "pygments_lexer": "ipython3",
   "version": "3.10.8"
  }
 },
 "nbformat": 4,
 "nbformat_minor": 2
}
